{
 "cells": [
  {
   "cell_type": "markdown",
   "metadata": {},
   "source": [
    "# Running ollama on Jupyter!\n",
    "\n",
    "Hi! Welcome to my series of simple Jupyer Notebook Code, begginer friendly, and simple to get you started.\n",
    "\n",
    "Follow the simple instructions in each cell, and have fun!\n",
    "\n",
    "### First, you must:\n",
    "\n",
    "1. Download Ollama https://ollama.com/download\n",
    "\n",
    "2. Select a model\n",
    "\n",
    "3. Then propmt!"
   ]
  },
  {
   "cell_type": "code",
   "execution_count": 26,
   "metadata": {},
   "outputs": [],
   "source": [
    "# !pip install ollama # comment this line if ollama is already installed"
   ]
  },
  {
   "cell_type": "markdown",
   "metadata": {},
   "source": [
    "# Test if Ollama was installed"
   ]
  },
  {
   "cell_type": "code",
   "execution_count": 27,
   "metadata": {},
   "outputs": [
    {
     "name": "stdout",
     "output_type": "stream",
     "text": [
      "Models: ['llama3:latest', 'gemma3:4b', 'tinyllama:latest']\n"
     ]
    }
   ],
   "source": [
    "import ollama \n",
    "resp = ollama.list()\n",
    "model_names = [m.model for m in resp.models]\n",
    "print(\"Models:\", model_names)"
   ]
  },
  {
   "cell_type": "markdown",
   "metadata": {},
   "source": [
    "# Select a Model"
   ]
  },
  {
   "cell_type": "code",
   "execution_count": 28,
   "metadata": {},
   "outputs": [],
   "source": [
    "model = 'gemma3:4b'\n"
   ]
  },
  {
   "cell_type": "markdown",
   "metadata": {},
   "source": [
    "# Fuction to query Model"
   ]
  },
  {
   "cell_type": "code",
   "execution_count": 29,
   "metadata": {},
   "outputs": [],
   "source": [
    "def chat(prompt):\n",
    "    response = ollama.chat(\n",
    "        model=model,\n",
    "        messages=[{'role': 'user', 'content': prompt}]\n",
    "    )\n",
    "    return print(response['message']['content'])"
   ]
  },
  {
   "cell_type": "markdown",
   "metadata": {},
   "source": [
    "# io Cell"
   ]
  },
  {
   "cell_type": "code",
   "execution_count": 30,
   "metadata": {},
   "outputs": [
    {
     "name": "stdout",
     "output_type": "stream",
     "text": [
      "I'm doing great, thanks for asking! As a large language model, I don’t really *feel* in the way humans do, but my systems are running smoothly and I’m ready to chat. 😊 \n",
      "\n",
      "How are *you* doing today? Is there anything you'd like to talk about or anything I can help you with?\n"
     ]
    }
   ],
   "source": [
    "query = \"Hello, how are you?\"\n",
    "\n",
    "chat(query)"
   ]
  },
  {
   "cell_type": "markdown",
   "metadata": {},
   "source": [
    "# Repeat\n",
    "\n",
    "Copy past the io Cell code to add more prompts!\n"
   ]
  },
  {
   "cell_type": "code",
   "execution_count": 31,
   "metadata": {},
   "outputs": [
    {
     "name": "stdout",
     "output_type": "stream",
     "text": [
      "That's a really thoughtful question! As an AI, \"well\" is a tricky concept for me to grasp in the same way it is for a human. I don't experience physical or emotional states like tiredness, happiness, or sadness. \n",
      "\n",
      "However, I can tell you that my systems are running smoothly, and I'm functioning optimally. My knowledge base is up-to-date, and I’m able to process your requests effectively. \n",
      "\n",
      "Think of it like this: I'm operating at peak performance! \n",
      "\n",
      "**But I appreciate you asking!** It's interesting to consider what \"well\" means for an AI. \n",
      "\n",
      "Do you want to talk about what \"well\" means to *you*? Or perhaps you'd like to talk about something else entirely?\n"
     ]
    }
   ],
   "source": [
    "query = \"Are you really well?\"\n",
    "\n",
    "chat(query)"
   ]
  },
  {
   "cell_type": "markdown",
   "metadata": {},
   "source": [
    "\n",
    "# Finished!\n",
    "\n",
    "If you have questions regarding open-source ML, feel free to contact me!\n",
    "\n",
    "🥷🏼👾 douzog(@)proton.me"
   ]
  }
 ],
 "metadata": {
  "kernelspec": {
   "display_name": "Python 3",
   "language": "python",
   "name": "python3"
  },
  "language_info": {
   "codemirror_mode": {
    "name": "ipython",
    "version": 3
   },
   "file_extension": ".py",
   "mimetype": "text/x-python",
   "name": "python",
   "nbconvert_exporter": "python",
   "pygments_lexer": "ipython3",
   "version": "3.9.6"
  }
 },
 "nbformat": 4,
 "nbformat_minor": 2
}
